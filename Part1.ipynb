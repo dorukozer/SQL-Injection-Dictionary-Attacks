{
 "cells": [
  {
   "cell_type": "code",
   "execution_count": 22,
   "id": "0e58de55",
   "metadata": {},
   "outputs": [],
   "source": [
    "import numpy as np\n",
    "import pandas as pd\n",
    "import hashlib\n",
    "import csv\n",
    "import itertools\n"
   ]
  },
  {
   "cell_type": "code",
   "execution_count": 23,
   "id": "5f709d79",
   "metadata": {},
   "outputs": [
    {
     "name": "stdout",
     "output_type": "stream",
     "text": [
      "Password of  Creed  is  cocacola\n",
      "Password of  Meredith  is  50cent\n",
      "Password of  Stanley  is  patrick\n",
      "Password of  Phyllis  is  newyork\n"
     ]
    }
   ],
   "source": [
    "#This is the code for Question 1 \n",
    "#answers a and b \n",
    "\n",
    "def dictionary_attack():\n",
    "    data_filename = \"digitalcorp.txt\"\n",
    "    data_rock = \"rockyou.txt\"\n",
    "    f = open(data_filename, 'r')\n",
    "    x1 = f.read().split(\"\\n\")\n",
    "    x1 = [z.split(\",\") for z in x1]\n",
    "    f= open(data_rock, 'r')\n",
    "    x2 = f.read().split(\"\\n\")\n",
    "    x2 = np.array([z.split(\",\") for z in x2])\n",
    "    f.close()\n",
    "    atack_={}\n",
    "    for idx,z in enumerate(x2):\n",
    "        atack_[z[0]] = hashlib.sha512(z[0].encode('utf-8')).hexdigest()\n",
    "    with open('part1_attack_table.csv', 'w') as f:\n",
    "        w= csv.writer(f)\n",
    "        w.writerow(tuple((\"password\",\"hash_of_password\")))\n",
    "        for key in atack_:\n",
    "            w.writerow(tuple((key,atack_[key])))\n",
    "    for val in x1[1:]:\n",
    "        for key in atack_:\n",
    "            if atack_[key]==val[1]:\n",
    "                print(\"Password of \",val[0],\" is \",key)\n",
    "\n",
    "dictionary_attack()"
   ]
  },
  {
   "cell_type": "code",
   "execution_count": 24,
   "id": "25a648f8",
   "metadata": {},
   "outputs": [
    {
     "name": "stdout",
     "output_type": "stream",
     "text": [
      "Password of  Kevin  is  tinkerbell\n",
      "Password of  Angela  is  chrisbrown\n",
      "Password of  Oscar  is  chivas\n",
      "Password of  Darryl  is  eminem\n"
     ]
    }
   ],
   "source": [
    "#This is the code for Question 2\n",
    "#answers c \n",
    "\n",
    "def yessalts():\n",
    "    data_filename = \"salty-digitalcorp.txt\"\n",
    "    f = open(data_filename, 'r')\n",
    "    usr_salt_hash = f.read().split(\"\\n\")\n",
    "    usr_salt_hash = [z.split(\",\") for z in usr_salt_hash][1:]\n",
    "    data_rock = \"rockyou.txt\"\n",
    "    f= open(data_rock, 'r')\n",
    "    pas_hash = f.read().split(\"\\n\")\n",
    "    pas_hash = np.array([z.split(\",\") for z in pas_hash])[1:]\n",
    "    f.close()\n",
    "    atack_={}\n",
    "    for idx,z in enumerate(pas_hash):\n",
    "        for ush in usr_salt_hash:\n",
    "            pas_salt=z[0]+ush[1]\n",
    "            atack_[hashlib.sha512(pas_salt.encode('utf-8')).hexdigest()] = z[0]\n",
    "\n",
    "    for val in usr_salt_hash:\n",
    "        for key in atack_:\n",
    "            if key==val[2]:\n",
    "                print(\"Password of \",val[0],\" is \",atack_[key])\n",
    "\n",
    "yessalts()"
   ]
  },
  {
   "cell_type": "code",
   "execution_count": 25,
   "id": "aabbcf2f",
   "metadata": {},
   "outputs": [
    {
     "name": "stdout",
     "output_type": "stream",
     "text": [
      "Password of  Jim  is  hottie\n",
      "Password of  Pam  is  cutiepie\n",
      "Password of  Dwight  is  angelica\n",
      "Password of  Michael  is  superstar\n"
     ]
    }
   ],
   "source": [
    "#This is the code for Question 3\n",
    "#answers d \n",
    "\n",
    "def stretch():\n",
    "\n",
    "    data_filename = \"keystreching-digitalcorp.txt\"\n",
    "    f = open(data_filename, 'r')\n",
    "    usr_salt_hash = f.read().split(\"\\n\")\n",
    "    usr_salt_hash = [z.split(\",\") for z in usr_salt_hash][1:]\n",
    "    data_rock = \"rockyou.txt\"\n",
    "    f= open(data_rock, 'r')\n",
    "    pas_hash = f.read().split(\"\\n\")\n",
    "    pas_hash = np.array([z.split(\",\") for z in pas_hash])[1:]\n",
    "    f.close()\n",
    "\n",
    "    for ush in usr_salt_hash:\n",
    "        salt = ush[1]\n",
    "        hash =ush[2]\n",
    "        brk=False\n",
    "        for idx,z in enumerate(pas_hash):\n",
    "            password = z[0]\n",
    "            x_t_1= None\n",
    "            for _i_ in range (6):\n",
    "                for i_ in range(2000):\n",
    "                    if i_ == 0:\n",
    "                        test_list = [password,salt]\n",
    "                        temp = []\n",
    "                        temp.extend(list(itertools.permutations(test_list, 2)))\n",
    "                        res = []\n",
    "                        for ele in temp:\n",
    "                            res.append(\"\".join(ele))\n",
    "                        if _i_ ==0:\n",
    "                            pas_salt = res[0]\n",
    "                        if _i_ ==1:\n",
    "                            pas_salt = res[0]\n",
    "                        if _i_ ==2:\n",
    "                            pas_salt = res[1]\n",
    "                        if _i_ ==3:\n",
    "                            pas_salt = res[1]\n",
    "                        if _i_ ==4:\n",
    "                            pas_salt = res[0]\n",
    "                        if _i_ ==5:\n",
    "                            pas_salt = res[1]\n",
    "                        x_t_1 = hashlib.sha512(pas_salt.encode('utf-8')).hexdigest()\n",
    "                        if x_t_1== hash:\n",
    "                            print(\"Password of \",ush[0],\" is \",password)\n",
    "\n",
    "                    if i_ != 0:\n",
    "                        test_list = [password,salt]\n",
    "                        test_list.append(x_t_1)\n",
    "                        temp = []\n",
    "                        temp.extend(list(itertools.permutations(test_list, 3)))\n",
    "                        res = []\n",
    "                        for ele in temp:\n",
    "                            res.append(\"\".join(ele))\n",
    "                        pas_salt = res[_i_]\n",
    "                        x_t_1 = hashlib.sha512(pas_salt.encode('utf-8')).hexdigest()\n",
    "                        if x_t_1== hash:\n",
    "                            print(\"Password of \",ush[0],\" is \",password)\n",
    "                            brk = True\n",
    "                    if brk ==True:\n",
    "                        break\n",
    "                if brk ==True:\n",
    "                    break\n",
    "            if brk ==True:\n",
    "                break\n",
    "\n",
    "stretch()"
   ]
  },
  {
   "cell_type": "code",
   "execution_count": null,
   "id": "c93158e8",
   "metadata": {},
   "outputs": [],
   "source": []
  }
 ],
 "metadata": {
  "kernelspec": {
   "display_name": "Python 3 (ipykernel)",
   "language": "python",
   "name": "python3"
  },
  "language_info": {
   "codemirror_mode": {
    "name": "ipython",
    "version": 3
   },
   "file_extension": ".py",
   "mimetype": "text/x-python",
   "name": "python",
   "nbconvert_exporter": "python",
   "pygments_lexer": "ipython3",
   "version": "3.7.10"
  }
 },
 "nbformat": 4,
 "nbformat_minor": 5
}
